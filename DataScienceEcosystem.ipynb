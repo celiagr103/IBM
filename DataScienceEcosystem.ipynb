{
 "cells": [
  {
   "cell_type": "markdown",
   "id": "d115438e-f68d-49b0-8fad-1748bcf93b2f",
   "metadata": {},
   "source": [
    "<center>\n",
    "    <img src=\"https://cf-courses-data.s3.us.cloud-object-storage.appdomain.cloud/IBMDeveloperSkillsNetwork-DS0105EN-SkillsNetwork/labs/Module2/images/SN_web_lightmode.png\" width=\"300\" alt=\"cognitiveclass.ai logo\">\n",
    "</center>\n"
   ]
  },
  {
   "cell_type": "markdown",
   "id": "b5dca9e8-1fcf-4aa3-90c3-c18eef516456",
   "metadata": {},
   "source": [
    "#### Add your code below following the instructions given in the course\n"
   ]
  },
  {
   "cell_type": "markdown",
   "id": "120cf367-d4e4-459e-b132-2bb629c4458f",
   "metadata": {},
   "source": [
    "# Exercise 2: Create markdown cell with title of the notebook"
   ]
  },
  {
   "cell_type": "markdown",
   "id": "017c60d1-e7f7-4aa5-a89d-2fef85fe5f69",
   "metadata": {},
   "source": [
    "# Data Science Tools and Ecosystem"
   ]
  },
  {
   "cell_type": "markdown",
   "id": "4a81a7d0-50b2-434f-af1e-8106d2dd1f6f",
   "metadata": {},
   "source": [
    "<details><summary>Click here for the screenshot</summary>\n",
    "\n",
    "<img src=\"https://jupyterlabnext-0-labs-prod-jupyterlab-us-east-0.labs.cognitiveclass.ai/user/celiagarciar/files/DS0105EN/labs/Module2_Coursera/2-titlee.png?_xsrf=MnwxOjB8MTA6MTcyOTQ1MzUyMHw1Ol94c3JmfDEzMjpOR013TldNM09XSXlaak13TkRGa01UZ3hOVGc0TkRGaVpURmpOVE0yWkdFNllqVXpNbUU0WXpWa05URm1NMlkwTnpVNFlqQmtOamMwTW1aaU4yUmlOelppTW1RMllUUm1NelpqT0dFNVpHSXdOR1EyWWpnMk5tSXlOVGcxWmpGa013PT18ZWU4ODQ2N2Q4MWQ1MDVhZDE3OWZmYzQxYWNjYmZhZTkwYTZjYWMxZDMyMzExZmM3NTk0YzgyYTBiNDc2YTNhZQ\">\n",
    "\n",
    "</details>"
   ]
  },
  {
   "cell_type": "markdown",
   "id": "1fd45d3d-6b81-4378-b9ec-3bf9b4007e3c",
   "metadata": {},
   "source": [
    "# Exercise 3 - Create a markdown cell for an introduction"
   ]
  },
  {
   "cell_type": "markdown",
   "id": "3019e2db-28b8-4771-90b5-0f92f3a471e8",
   "metadata": {},
   "source": [
    "In this notebook, Data Science Tools and Ecosystem are summarized."
   ]
  },
  {
   "cell_type": "markdown",
   "id": "000fe9fe-0e70-41fd-a59c-e1036134d658",
   "metadata": {},
   "source": [
    "**Objectives:**\n",
    "* List popular languages for Data Science\n",
    "* List popular data science libraries\n",
    "* Evaluating arithmetic expressions in Python"
   ]
  },
  {
   "cell_type": "markdown",
   "id": "217a6c2d-935c-4be2-892c-ee5f6ecacb16",
   "metadata": {},
   "source": [
    "<details><summary>Click here for the screenshot</summary>\n",
    "\n",
    "<img src=\"https://jupyterlabnext-0-labs-prod-jupyterlab-us-east-0.labs.cognitiveclass.ai/user/celiagarciar/files/DS0105EN/labs/Module2_Coursera/3-intro.png?_xsrf=MnwxOjB8MTA6MTcyOTQ1MzUyMHw1Ol94c3JmfDEzMjpOR013TldNM09XSXlaak13TkRGa01UZ3hOVGc0TkRGaVpURmpOVE0yWkdFNllqVXpNbUU0WXpWa05URm1NMlkwTnpVNFlqQmtOamMwTW1aaU4yUmlOelppTW1RMllUUm1NelpqT0dFNVpHSXdOR1EyWWpnMk5tSXlOVGcxWmpGa013PT18ZWU4ODQ2N2Q4MWQ1MDVhZDE3OWZmYzQxYWNjYmZhZTkwYTZjYWMxZDMyMzExZmM3NTk0YzgyYTBiNDc2YTNhZQ\">\n",
    "\n",
    "</details>"
   ]
  },
  {
   "cell_type": "markdown",
   "id": "fcfe9431-2dca-478d-aac2-c3ae448836b6",
   "metadata": {},
   "source": [
    "# Exercise 4 - Create a markdown cell to list data science languages"
   ]
  },
  {
   "cell_type": "markdown",
   "id": "4ddfde73-1ae2-4694-ac32-b45347cf188a",
   "metadata": {},
   "source": [
    "Some of the popular languages that Data Scientists use are:\n",
    "1. Python\n",
    "2. R\n",
    "3. SQL\n",
    "4. Julia\n",
    "5. Java"
   ]
  },
  {
   "cell_type": "markdown",
   "id": "d39459b9-c30b-489e-9776-2a64d60553af",
   "metadata": {},
   "source": [
    "<details><summary>Click here for the screenshot</summary>\n",
    "\n",
    "<img src=\"https://jupyterlabnext-0-labs-prod-jupyterlab-us-east-0.labs.cognitiveclass.ai/user/celiagarciar/files/DS0105EN/labs/Module2_Coursera/4-dslanguages.png?_xsrf=MnwxOjB8MTA6MTcyOTQ1MzUyMHw1Ol94c3JmfDEzMjpOR013TldNM09XSXlaak13TkRGa01UZ3hOVGc0TkRGaVpURmpOVE0yWkdFNllqVXpNbUU0WXpWa05URm1NMlkwTnpVNFlqQmtOamMwTW1aaU4yUmlOelppTW1RMllUUm1NelpqT0dFNVpHSXdOR1EyWWpnMk5tSXlOVGcxWmpGa013PT18ZWU4ODQ2N2Q4MWQ1MDVhZDE3OWZmYzQxYWNjYmZhZTkwYTZjYWMxZDMyMzExZmM3NTk0YzgyYTBiNDc2YTNhZQ\">\n",
    "\n",
    "</details>"
   ]
  },
  {
   "cell_type": "markdown",
   "id": "2d4698ea-2e98-40c6-9e17-7b35a313c17e",
   "metadata": {},
   "source": [
    "# Exercise 5 - Create a markdown cell to list data science libraries"
   ]
  },
  {
   "cell_type": "markdown",
   "id": "6517c6fb-b1d7-4fb0-bb10-154b0c0660ca",
   "metadata": {},
   "source": [
    "Some of the commonly used libraries used by Data Scientists include:\n",
    "1. pandas\n",
    "2. NumPy\n",
    "3. Matplotlib\n",
    "4. ggplot2\n",
    "5. caret"
   ]
  },
  {
   "cell_type": "markdown",
   "id": "c07f5809-cfc4-44fd-a1db-8b19012ec5b8",
   "metadata": {},
   "source": [
    "<details><summary>Click here for the screenshot</summary>\n",
    "\n",
    "<img src=\"https://jupyterlabnext-0-labs-prod-jupyterlab-us-east-0.labs.cognitiveclass.ai/user/celiagarciar/files/DS0105EN/labs/Module2_Coursera/5-dslibraries.png?_xsrf=MnwxOjB8MTA6MTcyOTQ1MzUyMHw1Ol94c3JmfDEzMjpOR013TldNM09XSXlaak13TkRGa01UZ3hOVGc0TkRGaVpURmpOVE0yWkdFNllqVXpNbUU0WXpWa05URm1NMlkwTnpVNFlqQmtOamMwTW1aaU4yUmlOelppTW1RMllUUm1NelpqT0dFNVpHSXdOR1EyWWpnMk5tSXlOVGcxWmpGa013PT18ZWU4ODQ2N2Q4MWQ1MDVhZDE3OWZmYzQxYWNjYmZhZTkwYTZjYWMxZDMyMzExZmM3NTk0YzgyYTBiNDc2YTNhZQ\">\n",
    "\n",
    "</details>"
   ]
  },
  {
   "cell_type": "markdown",
   "id": "fef3eea0-a2f8-41a5-95e4-4ae01f150682",
   "metadata": {},
   "source": [
    "# Exercise 6 - Create a markdown cell with a table of Data Science tools"
   ]
  },
  {
   "cell_type": "markdown",
   "id": "6263ba74-d60d-436e-b188-e258c90f33ed",
   "metadata": {},
   "source": [
    "|Data Science Tools |\n",
    "| -------------|\n",
    "| Jupyter Notebook|\n",
    "| RStudio |\n",
    "| Spyder |"
   ]
  },
  {
   "cell_type": "markdown",
   "id": "3749e1c4-1d28-43ce-8e1f-c896258be53b",
   "metadata": {},
   "source": [
    "<details><summary>Click here for the screenshot</summary>\n",
    "\n",
    "<img src=\"https://jupyterlabnext-0-labs-prod-jupyterlab-us-east-0.labs.cognitiveclass.ai/user/celiagarciar/files/DS0105EN/labs/Module2_Coursera/6-dstools.png?_xsrf=MnwxOjB8MTA6MTcyOTQ1MzUyMHw1Ol94c3JmfDEzMjpOR013TldNM09XSXlaak13TkRGa01UZ3hOVGc0TkRGaVpURmpOVE0yWkdFNllqVXpNbUU0WXpWa05URm1NMlkwTnpVNFlqQmtOamMwTW1aaU4yUmlOelppTW1RMllUUm1NelpqT0dFNVpHSXdOR1EyWWpnMk5tSXlOVGcxWmpGa013PT18ZWU4ODQ2N2Q4MWQ1MDVhZDE3OWZmYzQxYWNjYmZhZTkwYTZjYWMxZDMyMzExZmM3NTk0YzgyYTBiNDc2YTNhZQ\">\n",
    "\n",
    "</details>"
   ]
  },
  {
   "cell_type": "markdown",
   "id": "7b1fdc6a-da58-4a7e-8e9e-ca3637ad5367",
   "metadata": {},
   "source": [
    "# Exercise 7 - Create a markdown cell introducing arithmetic expression examples"
   ]
  },
  {
   "cell_type": "markdown",
   "id": "4dd9d781-d5e0-41ca-82cb-10a7b49ccf9d",
   "metadata": {},
   "source": [
    "### Below are a few examples of evaluating arithmetic expressions in Python"
   ]
  },
  {
   "cell_type": "markdown",
   "id": "7113f5b1-dac3-478b-94c6-bbaaa99b5489",
   "metadata": {},
   "source": [
    "<details><summary>Click here for the screenshot</summary>\n",
    "\n",
    "<img src=\"https://jupyterlabnext-0-labs-prod-jupyterlab-us-east-0.labs.cognitiveclass.ai/user/celiagarciar/files/DS0105EN/labs/Module2_Coursera/7-introarithmetiic.png?_xsrf=MnwxOjB8MTA6MTcyOTQ1MzUyMHw1Ol94c3JmfDEzMjpOR013TldNM09XSXlaak13TkRGa01UZ3hOVGc0TkRGaVpURmpOVE0yWkdFNllqVXpNbUU0WXpWa05URm1NMlkwTnpVNFlqQmtOamMwTW1aaU4yUmlOelppTW1RMllUUm1NelpqT0dFNVpHSXdOR1EyWWpnMk5tSXlOVGcxWmpGa013PT18ZWU4ODQ2N2Q4MWQ1MDVhZDE3OWZmYzQxYWNjYmZhZTkwYTZjYWMxZDMyMzExZmM3NTk0YzgyYTBiNDc2YTNhZQ\">\n",
    "\n",
    "</details>"
   ]
  },
  {
   "cell_type": "markdown",
   "id": "44624f31-c917-4291-a252-0bdcf1603ee4",
   "metadata": {},
   "source": [
    "# Exercise 8 - Create a code cell to multiply and add numbers"
   ]
  },
  {
   "cell_type": "code",
   "execution_count": 6,
   "id": "67efe991-a37f-4ca2-a48a-99caab81d749",
   "metadata": {},
   "outputs": [
    {
     "data": {
      "text/plain": [
       "17"
      ]
     },
     "execution_count": 6,
     "metadata": {},
     "output_type": "execute_result"
    }
   ],
   "source": [
    "# This a simple arithmetic expression to multiply then add integers\n",
    "(3*4)+5"
   ]
  },
  {
   "cell_type": "markdown",
   "id": "0dc8aeff-a103-40cb-b3a8-c57e2a0f9ebe",
   "metadata": {},
   "source": [
    "<details><summary>Click here for the screenshot</summary>\n",
    "\n",
    "<img src=\"https://jupyterlabnext-0-labs-prod-jupyterlab-us-east-0.labs.cognitiveclass.ai/user/celiagarciar/files/DS0105EN/labs/Module2_Coursera/8-multiplyandaddintegers.png?_xsrf=MnwxOjB8MTA6MTcyOTQ1MzUyMHw1Ol94c3JmfDEzMjpOR013TldNM09XSXlaak13TkRGa01UZ3hOVGc0TkRGaVpURmpOVE0yWkdFNllqVXpNbUU0WXpWa05URm1NMlkwTnpVNFlqQmtOamMwTW1aaU4yUmlOelppTW1RMllUUm1NelpqT0dFNVpHSXdOR1EyWWpnMk5tSXlOVGcxWmpGa013PT18ZWU4ODQ2N2Q4MWQ1MDVhZDE3OWZmYzQxYWNjYmZhZTkwYTZjYWMxZDMyMzExZmM3NTk0YzgyYTBiNDc2YTNhZQ\">\n",
    "\n",
    "</details>"
   ]
  },
  {
   "cell_type": "markdown",
   "id": "b8c8a348-499c-472c-a290-9b92fe8e75ec",
   "metadata": {},
   "source": [
    "# Exercise 9 - Create a code cell to convert minutes to hours"
   ]
  },
  {
   "cell_type": "code",
   "execution_count": 7,
   "id": "2750843c-e3f3-4810-8293-1cfa69e0f4c7",
   "metadata": {},
   "outputs": [
    {
     "data": {
      "text/plain": [
       "3.3333333333333335"
      ]
     },
     "execution_count": 7,
     "metadata": {},
     "output_type": "execute_result"
    }
   ],
   "source": [
    "# This will convert 200 minutes to hours by diving by 60\n",
    "200/60"
   ]
  },
  {
   "cell_type": "markdown",
   "id": "c3b16ed6-84bf-4427-b627-5169a864ac3e",
   "metadata": {},
   "source": [
    "<details><summary>Click here for the screenshot</summary>\n",
    "\n",
    "<img src=\"https://jupyterlabnext-0-labs-prod-jupyterlab-us-east-0.labs.cognitiveclass.ai/user/celiagarciar/files/DS0105EN/labs/Module2_Coursera/9-hourstominutes.png?_xsrf=MnwxOjB8MTA6MTcyOTQ1MzUyMHw1Ol94c3JmfDEzMjpOR013TldNM09XSXlaak13TkRGa01UZ3hOVGc0TkRGaVpURmpOVE0yWkdFNllqVXpNbUU0WXpWa05URm1NMlkwTnpVNFlqQmtOamMwTW1aaU4yUmlOelppTW1RMllUUm1NelpqT0dFNVpHSXdOR1EyWWpnMk5tSXlOVGcxWmpGa013PT18ZWU4ODQ2N2Q4MWQ1MDVhZDE3OWZmYzQxYWNjYmZhZTkwYTZjYWMxZDMyMzExZmM3NTk0YzgyYTBiNDc2YTNhZQ\">\n",
    "\n",
    "</details>"
   ]
  },
  {
   "cell_type": "markdown",
   "id": "98c2cbdf-0456-4fc4-bdbe-a69fcbc0fd11",
   "metadata": {},
   "source": [
    "# Exercise 10 - Insert a markdown cell to list Objectives"
   ]
  },
  {
   "cell_type": "markdown",
   "id": "d7a3510f-eeac-4310-97c6-eada35e32e64",
   "metadata": {},
   "source": [
    "Below the introduction cell created in Exercise 3, insert a new markdown cell to list the objectives that this notebook covered (i.e. some of the key takeaways from the course)."
   ]
  },
  {
   "cell_type": "markdown",
   "id": "2d96c992-c244-40d2-ab0c-85ffa537bb39",
   "metadata": {},
   "source": [
    "<details><summary>Click here for the screenshot</summary>\n",
    "\n",
    "<img src=\"https://jupyterlabnext-0-labs-prod-jupyterlab-us-east-0.labs.cognitiveclass.ai/user/celiagarciar/files/DS0105EN/labs/Module2_Coursera/10-objectives.png?_xsrf=MnwxOjB8MTA6MTcyOTQ1MzUyMHw1Ol94c3JmfDEzMjpOR013TldNM09XSXlaak13TkRGa01UZ3hOVGc0TkRGaVpURmpOVE0yWkdFNllqVXpNbUU0WXpWa05URm1NMlkwTnpVNFlqQmtOamMwTW1aaU4yUmlOelppTW1RMllUUm1NelpqT0dFNVpHSXdOR1EyWWpnMk5tSXlOVGcxWmpGa013PT18ZWU4ODQ2N2Q4MWQ1MDVhZDE3OWZmYzQxYWNjYmZhZTkwYTZjYWMxZDMyMzExZmM3NTk0YzgyYTBiNDc2YTNhZQ\">\n",
    "\n",
    "</details>"
   ]
  },
  {
   "cell_type": "markdown",
   "id": "7a587461-b1fd-4567-95ed-917d8e6bd21f",
   "metadata": {},
   "source": [
    "# Exercise 11 - Create a markdown cell to indicate the Author's name"
   ]
  },
  {
   "cell_type": "markdown",
   "id": "68cc79c0-51ef-49fd-88cd-3174b7217410",
   "metadata": {},
   "source": [
    "## Author\n",
    "\n",
    "Celia García Rodrigo"
   ]
  },
  {
   "cell_type": "markdown",
   "id": "25d28595-c5da-4356-9dfc-45637ffd0d94",
   "metadata": {},
   "source": [
    "<details><summary>Click here for the screenshot</summary>\n",
    "\n",
    "<img src=\"https://jupyterlabnext-0-labs-prod-jupyterlab-us-east-0.labs.cognitiveclass.ai/user/celiagarciar/files/DS0105EN/labs/Module2_Coursera/11-authordetails.png?_xsrf=MnwxOjB8MTA6MTcyOTQ1MzUyMHw1Ol94c3JmfDEzMjpOR013TldNM09XSXlaak13TkRGa01UZ3hOVGc0TkRGaVpURmpOVE0yWkdFNllqVXpNbUU0WXpWa05URm1NMlkwTnpVNFlqQmtOamMwTW1aaU4yUmlOelppTW1RMllUUm1NelpqT0dFNVpHSXdOR1EyWWpnMk5tSXlOVGcxWmpGa013PT18ZWU4ODQ2N2Q4MWQ1MDVhZDE3OWZmYzQxYWNjYmZhZTkwYTZjYWMxZDMyMzExZmM3NTk0YzgyYTBiNDc2YTNhZQ\">\n",
    "\n",
    "</details>"
   ]
  }
 ],
 "metadata": {
  "kernelspec": {
   "display_name": "Python 3 (ipykernel)",
   "language": "python",
   "name": "python3"
  },
  "language_info": {
   "codemirror_mode": {
    "name": "ipython",
    "version": 3
   },
   "file_extension": ".py",
   "mimetype": "text/x-python",
   "name": "python",
   "nbconvert_exporter": "python",
   "pygments_lexer": "ipython3",
   "version": "3.11.9"
  }
 },
 "nbformat": 4,
 "nbformat_minor": 5
}
